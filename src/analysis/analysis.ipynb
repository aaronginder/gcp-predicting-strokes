{
 "cells": [
  {
   "cell_type": "code",
   "execution_count": null,
   "id": "c4d52a73",
   "metadata": {},
   "outputs": [],
   "source": []
  },
  {
   "cell_type": "code",
   "execution_count": 4,
   "id": "d3b92ff3",
   "metadata": {},
   "outputs": [
    {
     "name": "stdout",
     "output_type": "stream",
     "text": [
      "Requirement already satisfied: pandas in /mnt/c/Users/aaron/git/gcp-predicting-strokes/.venv/lib/python3.8/site-packages (1.3.4)\n",
      "Requirement already satisfied: pandas-profiling in /mnt/c/Users/aaron/git/gcp-predicting-strokes/.venv/lib/python3.8/site-packages (3.1.0)\n",
      "Requirement already satisfied: numpy>=1.17.3 in /mnt/c/Users/aaron/git/gcp-predicting-strokes/.venv/lib/python3.8/site-packages (from pandas) (1.21.2)\n",
      "Requirement already satisfied: python-dateutil>=2.7.3 in /mnt/c/Users/aaron/git/gcp-predicting-strokes/.venv/lib/python3.8/site-packages (from pandas) (2.8.2)\n",
      "Requirement already satisfied: pytz>=2017.3 in /mnt/c/Users/aaron/git/gcp-predicting-strokes/.venv/lib/python3.8/site-packages (from pandas) (2021.3)\n",
      "Requirement already satisfied: missingno>=0.4.2 in /mnt/c/Users/aaron/git/gcp-predicting-strokes/.venv/lib/python3.8/site-packages (from pandas-profiling) (0.5.0)\n",
      "Requirement already satisfied: phik>=0.11.1 in /mnt/c/Users/aaron/git/gcp-predicting-strokes/.venv/lib/python3.8/site-packages (from pandas-profiling) (0.12.0)\n",
      "Requirement already satisfied: tqdm>=4.48.2 in /mnt/c/Users/aaron/git/gcp-predicting-strokes/.venv/lib/python3.8/site-packages (from pandas-profiling) (4.62.3)\n",
      "Requirement already satisfied: scipy>=1.4.1 in /mnt/c/Users/aaron/git/gcp-predicting-strokes/.venv/lib/python3.8/site-packages (from pandas-profiling) (1.7.1)\n",
      "Requirement already satisfied: multimethod>=1.4 in /mnt/c/Users/aaron/git/gcp-predicting-strokes/.venv/lib/python3.8/site-packages (from pandas-profiling) (1.6)\n",
      "Requirement already satisfied: visions[type_image_path]==0.7.4 in /mnt/c/Users/aaron/git/gcp-predicting-strokes/.venv/lib/python3.8/site-packages (from pandas-profiling) (0.7.4)\n",
      "Requirement already satisfied: jinja2>=2.11.1 in /mnt/c/Users/aaron/git/gcp-predicting-strokes/.venv/lib/python3.8/site-packages (from pandas-profiling) (3.0.2)\n",
      "Requirement already satisfied: joblib~=1.0.1 in /mnt/c/Users/aaron/git/gcp-predicting-strokes/.venv/lib/python3.8/site-packages (from pandas-profiling) (1.0.1)\n",
      "Requirement already satisfied: pydantic>=1.8.1 in /mnt/c/Users/aaron/git/gcp-predicting-strokes/.venv/lib/python3.8/site-packages (from pandas-profiling) (1.8.2)\n",
      "Requirement already satisfied: matplotlib>=3.2.0 in /mnt/c/Users/aaron/git/gcp-predicting-strokes/.venv/lib/python3.8/site-packages (from pandas-profiling) (3.4.3)\n",
      "Requirement already satisfied: htmlmin>=0.1.12 in /mnt/c/Users/aaron/git/gcp-predicting-strokes/.venv/lib/python3.8/site-packages (from pandas-profiling) (0.1.12)\n",
      "Requirement already satisfied: seaborn>=0.10.1 in /mnt/c/Users/aaron/git/gcp-predicting-strokes/.venv/lib/python3.8/site-packages (from pandas-profiling) (0.11.2)\n",
      "Requirement already satisfied: tangled-up-in-unicode==0.1.0 in /mnt/c/Users/aaron/git/gcp-predicting-strokes/.venv/lib/python3.8/site-packages (from pandas-profiling) (0.1.0)\n",
      "Requirement already satisfied: PyYAML>=5.0.0 in /mnt/c/Users/aaron/git/gcp-predicting-strokes/.venv/lib/python3.8/site-packages (from pandas-profiling) (5.4.1)\n",
      "Requirement already satisfied: markupsafe~=2.0.1 in /mnt/c/Users/aaron/git/gcp-predicting-strokes/.venv/lib/python3.8/site-packages (from pandas-profiling) (2.0.1)\n",
      "Requirement already satisfied: requests>=2.24.0 in /mnt/c/Users/aaron/git/gcp-predicting-strokes/.venv/lib/python3.8/site-packages (from pandas-profiling) (2.26.0)\n",
      "Requirement already satisfied: attrs>=19.3.0 in /mnt/c/Users/aaron/git/gcp-predicting-strokes/.venv/lib/python3.8/site-packages (from visions[type_image_path]==0.7.4->pandas-profiling) (21.2.0)\n",
      "Requirement already satisfied: networkx>=2.4 in /mnt/c/Users/aaron/git/gcp-predicting-strokes/.venv/lib/python3.8/site-packages (from visions[type_image_path]==0.7.4->pandas-profiling) (2.6.3)\n",
      "Requirement already satisfied: imagehash in /mnt/c/Users/aaron/git/gcp-predicting-strokes/.venv/lib/python3.8/site-packages (from visions[type_image_path]==0.7.4->pandas-profiling) (4.2.1)\n",
      "Requirement already satisfied: Pillow in /mnt/c/Users/aaron/git/gcp-predicting-strokes/.venv/lib/python3.8/site-packages (from visions[type_image_path]==0.7.4->pandas-profiling) (8.4.0)\n",
      "Requirement already satisfied: cycler>=0.10 in /mnt/c/Users/aaron/git/gcp-predicting-strokes/.venv/lib/python3.8/site-packages (from matplotlib>=3.2.0->pandas-profiling) (0.10.0)\n",
      "Requirement already satisfied: pyparsing>=2.2.1 in /mnt/c/Users/aaron/git/gcp-predicting-strokes/.venv/lib/python3.8/site-packages (from matplotlib>=3.2.0->pandas-profiling) (2.4.7)\n",
      "Requirement already satisfied: kiwisolver>=1.0.1 in /mnt/c/Users/aaron/git/gcp-predicting-strokes/.venv/lib/python3.8/site-packages (from matplotlib>=3.2.0->pandas-profiling) (1.3.2)\n",
      "Requirement already satisfied: typing-extensions>=3.7.4.3 in /mnt/c/Users/aaron/git/gcp-predicting-strokes/.venv/lib/python3.8/site-packages (from pydantic>=1.8.1->pandas-profiling) (3.10.0.2)\n",
      "Requirement already satisfied: six>=1.5 in /mnt/c/Users/aaron/git/gcp-predicting-strokes/.venv/lib/python3.8/site-packages (from python-dateutil>=2.7.3->pandas) (1.16.0)\n",
      "Requirement already satisfied: urllib3<1.27,>=1.21.1 in /mnt/c/Users/aaron/git/gcp-predicting-strokes/.venv/lib/python3.8/site-packages (from requests>=2.24.0->pandas-profiling) (1.26.7)\n",
      "Requirement already satisfied: charset-normalizer~=2.0.0 in /mnt/c/Users/aaron/git/gcp-predicting-strokes/.venv/lib/python3.8/site-packages (from requests>=2.24.0->pandas-profiling) (2.0.6)\n",
      "Requirement already satisfied: certifi>=2017.4.17 in /mnt/c/Users/aaron/git/gcp-predicting-strokes/.venv/lib/python3.8/site-packages (from requests>=2.24.0->pandas-profiling) (2021.5.30)\n",
      "Requirement already satisfied: idna<4,>=2.5 in /mnt/c/Users/aaron/git/gcp-predicting-strokes/.venv/lib/python3.8/site-packages (from requests>=2.24.0->pandas-profiling) (3.2)\n",
      "Requirement already satisfied: PyWavelets in /mnt/c/Users/aaron/git/gcp-predicting-strokes/.venv/lib/python3.8/site-packages (from imagehash->visions[type_image_path]==0.7.4->pandas-profiling) (1.1.1)\n"
     ]
    }
   ],
   "source": [
    "! pip install pandas pandas-profiling\n",
    "\n",
    "import pandas\n",
    "from pandas_profiling import ProfileReport"
   ]
  },
  {
   "cell_type": "code",
   "execution_count": 8,
   "id": "5c856d4e",
   "metadata": {},
   "outputs": [
    {
     "name": "stdout",
     "output_type": "stream",
     "text": [
      "Enabling notebook extension jupyter-js-widgets/extension...\r\n",
      "      - Validating: \u001b[32mOK\u001b[0m\r\n"
     ]
    },
    {
     "data": {
      "application/vnd.jupyter.widget-view+json": {
       "model_id": "d719a6eb77a84f159ae5da7986f981d4",
       "version_major": 2,
       "version_minor": 0
      },
      "text/plain": [
       "Summarize dataset:   0%|          | 0/5 [00:00<?, ?it/s]"
      ]
     },
     "metadata": {},
     "output_type": "display_data"
    },
    {
     "data": {
      "application/vnd.jupyter.widget-view+json": {
       "model_id": "a2e20c22bc6c449bb0f6b8af295c1b21",
       "version_major": 2,
       "version_minor": 0
      },
      "text/plain": [
       "Generate report structure:   0%|          | 0/1 [00:00<?, ?it/s]"
      ]
     },
     "metadata": {},
     "output_type": "display_data"
    },
    {
     "data": {
      "application/vnd.jupyter.widget-view+json": {
       "model_id": "2037af12a79044aaacbba0f24653a96f",
       "version_major": 2,
       "version_minor": 0
      },
      "text/plain": [
       "Render HTML:   0%|          | 0/1 [00:00<?, ?it/s]"
      ]
     },
     "metadata": {},
     "output_type": "display_data"
    },
    {
     "data": {
      "application/vnd.jupyter.widget-view+json": {
       "model_id": "2383a6bb640b4c268b8f1177fc9ce326",
       "version_major": 2,
       "version_minor": 0
      },
      "text/plain": [
       "Export report to file:   0%|          | 0/1 [00:00<?, ?it/s]"
      ]
     },
     "metadata": {},
     "output_type": "display_data"
    }
   ],
   "source": [
    "!jupyter nbextension enable --py widgetsnbextension\n",
    "\n",
    "# Import dataset into dataframe for analysis\n",
    "df = pandas.read_csv(\"../data/healthcare-dataset-stroke-data.csv\")\n",
    "\n",
    "# Profile the data and generate a report\n",
    "profile = ProfileReport(df, title=\"Stroke Prediction Dataset Profiling Report\", explorative=True)\n",
    "profile.to_file(\"./reports/descriptive_statistics.html\")"
   ]
  }
 ],
 "metadata": {
  "kernelspec": {
   "display_name": "Python 3 (ipykernel)",
   "language": "python",
   "name": "python3"
  },
  "language_info": {
   "codemirror_mode": {
    "name": "ipython",
    "version": 3
   },
   "file_extension": ".py",
   "mimetype": "text/x-python",
   "name": "python",
   "nbconvert_exporter": "python",
   "pygments_lexer": "ipython3",
   "version": "3.8.10"
  }
 },
 "nbformat": 4,
 "nbformat_minor": 5
}
